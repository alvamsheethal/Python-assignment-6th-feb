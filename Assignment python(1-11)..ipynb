{
 "cells": [
  {
   "cell_type": "markdown",
   "id": "161c42e5",
   "metadata": {},
   "source": [
    "1. Simple Message: Store a message in a variable, and then print that message."
   ]
  },
  {
   "cell_type": "code",
   "execution_count": 5,
   "id": "dd3294f1",
   "metadata": {},
   "outputs": [
    {
     "name": "stdout",
     "output_type": "stream",
     "text": [
      "Hello everyone\n"
     ]
    }
   ],
   "source": [
    "Text=\"Hello everyone\"\n",
    "print(Text)"
   ]
  },
  {
   "cell_type": "markdown",
   "id": "103e7440",
   "metadata": {},
   "source": [
    "2. Store a message in a variable and print that message. Then change the\n",
    "value of your variable to a new message and print the new message."
   ]
  },
  {
   "cell_type": "code",
   "execution_count": 7,
   "id": "847d9df3",
   "metadata": {},
   "outputs": [
    {
     "name": "stdout",
     "output_type": "stream",
     "text": [
      "Hello everyone\n",
      "Have a good day\n"
     ]
    }
   ],
   "source": [
    "Text=\"Hello everyone\"\n",
    "print(Text)\n",
    "\n",
    "Text2=\"Have a good day\"\n",
    "print(Text2)"
   ]
  },
  {
   "cell_type": "markdown",
   "id": "afedb534",
   "metadata": {},
   "source": [
    "3. Store a person’s name in a variable and print a message to that person. Your message should be simple, such as, “Hello Eric, would you like to\n",
    "learn some Python today?”"
   ]
  },
  {
   "cell_type": "code",
   "execution_count": 16,
   "id": "37c4ea27",
   "metadata": {},
   "outputs": [
    {
     "name": "stdout",
     "output_type": "stream",
     "text": [
      "Hello Eric,would you like to learn some Python today?\n"
     ]
    }
   ],
   "source": [
    "fName=\"Eric\"\n",
    "print(f\"Hello {fName},would you like to learn some Python today?\")"
   ]
  },
  {
   "cell_type": "markdown",
   "id": "9ca15f6a",
   "metadata": {},
   "source": [
    "4. Find a quote from a famous person you admire. Print the quote and the\n",
    "name of its author. Your output should look something like the following, including the quotation marks: Albert Einstein once said, “A person who never made a mistake never tried anything new.”\n"
   ]
  },
  {
   "cell_type": "code",
   "execution_count": 28,
   "id": "6738ed92",
   "metadata": {},
   "outputs": [
    {
     "name": "stdout",
     "output_type": "stream",
     "text": [
      "Gandhiji once said- (Be the change you want to see in the world)\n"
     ]
    }
   ],
   "source": [
    "Quote=\"(Be the change you want to see in the world)\"\n",
    "print(\"Gandhiji once said\"'-',Quote)"
   ]
  },
  {
   "cell_type": "markdown",
   "id": "8aa7f27a",
   "metadata": {},
   "source": [
    "5. Repeat Exercise 4, but this time store the famous person’s name in a variable called famous_person. Then compose your message and store it in a new variable called message. Print your message."
   ]
  },
  {
   "cell_type": "code",
   "execution_count": 53,
   "id": "1022fec2",
   "metadata": {},
   "outputs": [
    {
     "name": "stdout",
     "output_type": "stream",
     "text": [
      "Gandhiji said Be the change you want to see in the world\n"
     ]
    }
   ],
   "source": [
    "famous_person='Gandhiji '\n",
    "message=\"Be the change you want to see in the world\"\n",
    "print(f\"{famous_person}said\",message)\n"
   ]
  },
  {
   "cell_type": "markdown",
   "id": "e4ecabdf",
   "metadata": {},
   "source": [
    "Write addition, subtraction, multiplication, and division operations that each result in the number 8. Be sure to enclose your operations in print statements to see the results. You should create four lines that look like this: print (5 + 3)\n",
    "Your output should simply be four lines with the number 8 appearing once\n",
    "on each line."
   ]
  },
  {
   "cell_type": "code",
   "execution_count": 72,
   "id": "a821066b",
   "metadata": {},
   "outputs": [
    {
     "name": "stdout",
     "output_type": "stream",
     "text": [
      "8\n",
      "8\n",
      "8\n",
      "8.0\n"
     ]
    }
   ],
   "source": [
    "a=5\n",
    "b=3\n",
    "c=5+3\n",
    "print(c)\n",
    "a=10\n",
    "b=2\n",
    "c=10-2\n",
    "print(c)\n",
    "a=8\n",
    "b=1\n",
    "c=8*1\n",
    "print(c)\n",
    "a=8\n",
    "b=1\n",
    "c=8/1\n",
    "print(c)\n",
    "\n"
   ]
  },
  {
   "cell_type": "markdown",
   "id": "296e799e",
   "metadata": {},
   "source": [
    "7. Store your favourite number in a variable. Then, using that variable, create\n",
    "a message that reveals your favourite number. Print that message."
   ]
  },
  {
   "cell_type": "code",
   "execution_count": 101,
   "id": "7783841c",
   "metadata": {},
   "outputs": [
    {
     "name": "stdout",
     "output_type": "stream",
     "text": [
      "my favourite number is 5\n"
     ]
    }
   ],
   "source": [
    "Fav_Number= '5'\n",
    "message=\"my favourite number is \"\n",
    "print(f\"{message}\",Fav_Number)"
   ]
  },
  {
   "cell_type": "markdown",
   "id": "6f61f49d",
   "metadata": {},
   "source": [
    "8. Choose two of the programs you’ve written and add at least one comment\n",
    "to each. If you don’t have anything specific to write because your programs are too simple at this point, just add your name and the current date at the top of each program file. Then write one sentence describing what the program does."
   ]
  },
  {
   "cell_type": "code",
   "execution_count": 1,
   "id": "22bda960",
   "metadata": {},
   "outputs": [
    {
     "name": "stdout",
     "output_type": "stream",
     "text": [
      "enter your name sheetalalva\n",
      "dd/mm/yyyy11/02/2022\n",
      "Hello everyone\n",
      "Have a good day\n",
      "This program is all about welcome message\n"
     ]
    }
   ],
   "source": [
    "a=input(\"enter your name \")\n",
    "b=input(\"dd/mm/yyyy\")\n",
    "Text=\"Hello everyone\"\n",
    "print(Text)\n",
    "\n",
    "Text2=\"Have a good day\"\n",
    "print(Text2)\n",
    "print(\"This program is all about welcome message\")\n",
    "\n",
    "\n"
   ]
  },
  {
   "cell_type": "markdown",
   "id": "b0c729bb",
   "metadata": {},
   "source": [
    "9)Store the names of a few of your friends in a list called names. Print each person’s name by accessing each element in the list, one at a time."
   ]
  },
  {
   "cell_type": "code",
   "execution_count": 6,
   "id": "c4561cdd",
   "metadata": {},
   "outputs": [
    {
     "name": "stdout",
     "output_type": "stream",
     "text": [
      "choose the name from the list - suma,anu,rashmi,mahi\n",
      "name of the person mahi\n"
     ]
    }
   ],
   "source": [
    "Names=(\"suma,anu,rashmi,mahi\")\n",
    "print(\"choose the name from the list\",\"-\",Names)\n",
    "person_name=input(\"name of the person \")\n"
   ]
  },
  {
   "cell_type": "markdown",
   "id": "c2bccc62",
   "metadata": {},
   "source": [
    "10.Start with the list you used in Exercise 9, but of just printing each person’s name, print a message to them. The text of each message should be the same, but each message should be personalized with the person’s name.\n"
   ]
  },
  {
   "cell_type": "code",
   "execution_count": 11,
   "id": "f09aed6f",
   "metadata": {},
   "outputs": [
    {
     "name": "stdout",
     "output_type": "stream",
     "text": [
      " Good morning-suma \n",
      " Good morning-anu \n",
      " Good morning rashmi \n",
      " Good morning-mahi\n"
     ]
    }
   ],
   "source": [
    "Names=(\"suma,anu,rashmi,mahi\")\n",
    "print(\" Good morning-suma\",\"\\n Good morning-anu\",\"\\n Good morning rashmi\",\"\\n Good morning-mahi\")"
   ]
  },
  {
   "cell_type": "markdown",
   "id": "a3f44c51",
   "metadata": {},
   "source": [
    "11.Think of your favourite mode of transportation, such as a motorcycle or a car, and make a list that stores several examples. Use your list to print a series of statements about these items, such as “I would like to own a Honda motorcycle.”"
   ]
  },
  {
   "cell_type": "code",
   "execution_count": 16,
   "id": "210250cb",
   "metadata": {},
   "outputs": [
    {
     "name": "stdout",
     "output_type": "stream",
     "text": [
      " I would like to buy a car \n",
      " I want to travel in a bus \n",
      " Travelling in a train dreams comes true \n",
      " By traveling in a airoplane we reach the destination soon\n"
     ]
    }
   ],
   "source": [
    "Transportation=(\"car,bus,train,airoplane\")\n",
    "print(\" I would like to buy a car\",\"\\n I want to travel in a bus\",\"\\n Travelling in a train dreams comes true\",\"\\n By traveling in a airoplane we reach the destination soon\")"
   ]
  },
  {
   "cell_type": "code",
   "execution_count": null,
   "id": "84952481",
   "metadata": {},
   "outputs": [],
   "source": []
  }
 ],
 "metadata": {
  "kernelspec": {
   "display_name": "Python 3 (ipykernel)",
   "language": "python",
   "name": "python3"
  },
  "language_info": {
   "codemirror_mode": {
    "name": "ipython",
    "version": 3
   },
   "file_extension": ".py",
   "mimetype": "text/x-python",
   "name": "python",
   "nbconvert_exporter": "python",
   "pygments_lexer": "ipython3",
   "version": "3.9.7"
  }
 },
 "nbformat": 4,
 "nbformat_minor": 5
}
